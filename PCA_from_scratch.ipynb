{
 "cells": [
  {
   "cell_type": "code",
   "execution_count": 49,
   "metadata": {},
   "outputs": [
    {
     "name": "stdout",
     "output_type": "stream",
     "text": [
      "The shape of the dataset is: (8950, 17)\n"
     ]
    }
   ],
   "source": [
    "import pandas as pd\n",
    "data_path = 'CC GENERAL.csv'  #the path where you downloaded the data\n",
    "df = pd.read_csv(data_path)\n",
    "df.set_index(['CUST_ID'],drop=True,inplace=True)\n",
    "print('The shape of the dataset is:', df.shape)"
   ]
  },
  {
   "cell_type": "code",
   "execution_count": 50,
   "metadata": {},
   "outputs": [],
   "source": [
    "#make a copy for the original dataset\n",
    "df_copy_scenario1=df.copy()"
   ]
  },
  {
   "cell_type": "code",
   "execution_count": 51,
   "metadata": {},
   "outputs": [],
   "source": [
    "df_copy_scenario1['CREDIT_LIMIT'].fillna(df_copy_scenario1['CREDIT_LIMIT'].median(),inplace=True)\n",
    "df_copy_scenario1['MINIMUM_PAYMENTS'].fillna(df_copy_scenario1['MINIMUM_PAYMENTS'].median(),inplace=True)"
   ]
  },
  {
   "cell_type": "code",
   "execution_count": 143,
   "metadata": {},
   "outputs": [],
   "source": [
    "import numpy as np\n",
    "import matplotlib.pyplot as plt\n",
    "class PCA ():\n",
    "\n",
    "    def __init__(self,n_components,typee ):\n",
    "        self.n_components = n_components\n",
    "        self.type=typee\n",
    "        if self.n_components > 1:\n",
    "            self.type = 'var'\n",
    "        else:\n",
    "            self.type = 'ratio'\n",
    "\n",
    "    def fit(self,X):\n",
    "        \n",
    "        self.mean =np.mean(X,axis=0) ##calculate mean\n",
    "        self.variance =np.std(X,axis=0) ##calculate variance\n",
    "        X_standarded=(X-self.mean) /self.variance #standarize x\n",
    "        cov_matrix=np.cov(X_standarded.T) ##cal covariance matrix\n",
    "        eign_values,eign_vectors=np.linalg.eig(cov_matrix) ##cal eign values and vectores\n",
    "        index=np.argsort(eign_values)[: : -1]  ##get index of eign values descending\n",
    "        eign_values_sorted=eign_values[index]##sort eign values\n",
    "        explained_var_pca=eign_values_sorted/(np.sum(eign_values_sorted)) ##cal explained varaince ratio lambda/sum(lambdas)\n",
    "        self.cum_sum_eignvalues=np.cumsum(explained_var_pca) ##cumulative sum of explained variance\n",
    "        if(self.type=='var'):\n",
    "                  full_components=eign_vectors[:,index] ##sort eign vectors\n",
    "                  self.components=full_components[:, 0:self.n_components] ##subset for chosen components\n",
    "                  self.eign_per_components=eign_values[ 0:self.n_components] ##subset for chosen eign values to draw plot\n",
    "                  X_new=np.dot(X_standarded,self.components) ##transform data\n",
    "        else :\n",
    "            comp=np.where(self.cum_sum_eignvalues>=self.n_components)[0][1] ##return no of componeents matches perecent \n",
    "            full_components=eign_vectors[:,index] ##sort eign vectors\n",
    "            self.components=full_components[:, 0:comp] ##slice the components chosen\n",
    "            self.eign_per_components=eign_values[ 0:comp] ##slice eign values to draw plot\n",
    "            X_new=np.dot(X_standarded,self.components)\n",
    "            \n",
    "        return X_new\n",
    "\n",
    "    def transform(self,Z):\n",
    "        Z_new = (Z - self.mean )/ self.variance\n",
    "        Z_new = np.dot(Z_new,self.components)\n",
    "        return Z_new\n",
    "\n",
    "    #optional \n",
    "    def plot_explained_variance(self):\n",
    "            eign_values_sorted=self.eign_per_components ##chosen components eign values sorted\n",
    "            explained_var_pca=[]\n",
    "            explained_var_pca=eign_values_sorted/(np.sum(eign_values_sorted))\n",
    "            self.cum_sum_eignvalues=np.cumsum(explained_var_pca) ##cal explained variance ratio\n",
    "            plt.step(range(0,len(self.cum_sum_eignvalues)),self.cum_sum_eignvalues, label='Individual explained variance')\n",
    "            x=np.array(self.cum_sum_eignvalues)\n",
    "            plt.axhline(x[np.where(x>0.95)[0][0]],color='r')\n",
    "            plt.ylabel('Explained variance ratio')\n",
    "            plt.xlabel('Principal component index')\n",
    "\n",
    "\n",
    "\n",
    "\n"
   ]
  },
  {
   "cell_type": "code",
   "execution_count": 144,
   "metadata": {},
   "outputs": [
    {
     "data": {
      "text/plain": [
       "(17, 12)"
      ]
     },
     "execution_count": 144,
     "metadata": {},
     "output_type": "execute_result"
    }
   ],
   "source": [
    "data=df_copy_scenario1.values\n",
    "pca_section = PCA(n_components=0.95,typee='ratio')\n",
    "X_transofmed = pca_section.fit(data)\n",
    "components=pca_section.components\n",
    "components.shape"
   ]
  },
  {
   "cell_type": "code",
   "execution_count": 145,
   "metadata": {},
   "outputs": [
    {
     "data": {
      "image/png": "[encoded data removed]",
      "text/plain": [
       "<Figure size 432x288 with 1 Axes>"
      ]
     },
     "metadata": {
      "needs_background": "light"
     },
     "output_type": "display_data"
    }
   ],
   "source": [
    "pca_section.plot_explained_variance()"
   ]
  },
  {
   "cell_type": "markdown",
   "metadata": {},
   "source": [
    "# Using Sklearn"
   ]
  },
  {
   "cell_type": "code",
   "execution_count": 133,
   "metadata": {},
   "outputs": [],
   "source": [
    "from sklearn.decomposition import PCA\n",
    "from sklearn.preprocessing import StandardScaler\n",
    "sc=StandardScaler()\n",
    "pca = PCA(n_components=6)\n",
    "df_copy_scenario2=sc.fit_transform(df_copy_scenario1)\n",
    "sklearn_pca=pd.DataFrame(pca.fit_transform(df_copy_scenario2))"
   ]
  },
  {
   "cell_type": "code",
   "execution_count": 134,
   "metadata": {},
   "outputs": [
    {
     "data": {
      "text/plain": [
       "Text(0.5, 0, 'Principal component index')"
      ]
     },
     "execution_count": 134,
     "metadata": {},
     "output_type": "execute_result"
    },
    {
     "data": {
      "image/png": "[encoded data removed]",
      "text/plain": [
       "<Figure size 432x288 with 1 Axes>"
      ]
     },
     "metadata": {
      "needs_background": "light"
     },
     "output_type": "display_data"
    }
   ],
   "source": [
    "exp_var_pca = pca.explained_variance_ratio_\n",
    "cum_sum_eigenvalues = np.cumsum(exp_var_pca)\n",
    "plt.step(range(0,len(cum_sum_eigenvalues)),cum_sum_eigenvalues , label='Individual explained variance')\n",
    "plt.ylabel('Explained variance ratio')\n",
    "plt.xlabel('Principal component index')"
   ]
  },
  {
   "cell_type": "markdown",
   "metadata": {},
   "source": [
    "# New features"
   ]
  },
  {
   "cell_type": "markdown",
   "metadata": {},
   "source": [
    "with Sklearn"
   ]
  },
  {
   "cell_type": "code",
   "execution_count": 135,
   "metadata": {},
   "outputs": [
    {
     "data": {
      "text/html": [
       "<div>\n",
       "<style scoped>\n",
       "    .dataframe tbody tr th:only-of-type {\n",
       "        vertical-align: middle;\n",
       "    }\n",
       "\n",
       "    .dataframe tbody tr th {\n",
       "        vertical-align: top;\n",
       "    }\n",
       "\n",
       "    .dataframe thead th {\n",
       "        text-align: right;\n",
       "    }\n",
       "</style>\n",
       "<table border=\"1\" class=\"dataframe\">\n",
       "  <thead>\n",
       "    <tr style=\"text-align: right;\">\n",
       "      <th></th>\n",
       "      <th>0</th>\n",
       "      <th>1</th>\n",
       "      <th>2</th>\n",
       "      <th>3</th>\n",
       "      <th>4</th>\n",
       "      <th>5</th>\n",
       "    </tr>\n",
       "  </thead>\n",
       "  <tbody>\n",
       "    <tr>\n",
       "      <th>0</th>\n",
       "      <td>-1.683649</td>\n",
       "      <td>-1.072241</td>\n",
       "      <td>0.475660</td>\n",
       "      <td>0.679928</td>\n",
       "      <td>0.043195</td>\n",
       "      <td>0.068069</td>\n",
       "    </tr>\n",
       "    <tr>\n",
       "      <th>1</th>\n",
       "      <td>-1.134085</td>\n",
       "      <td>2.509150</td>\n",
       "      <td>0.602216</td>\n",
       "      <td>-0.109542</td>\n",
       "      <td>0.662638</td>\n",
       "      <td>-1.102255</td>\n",
       "    </tr>\n",
       "    <tr>\n",
       "      <th>2</th>\n",
       "      <td>0.969395</td>\n",
       "      <td>-0.383577</td>\n",
       "      <td>0.090970</td>\n",
       "      <td>1.238359</td>\n",
       "      <td>-2.166584</td>\n",
       "      <td>-0.320185</td>\n",
       "    </tr>\n",
       "    <tr>\n",
       "      <th>3</th>\n",
       "      <td>-0.888220</td>\n",
       "      <td>0.004648</td>\n",
       "      <td>1.499800</td>\n",
       "      <td>1.075271</td>\n",
       "      <td>0.225828</td>\n",
       "      <td>-0.171540</td>\n",
       "    </tr>\n",
       "    <tr>\n",
       "      <th>4</th>\n",
       "      <td>-1.600021</td>\n",
       "      <td>-0.683795</td>\n",
       "      <td>0.347927</td>\n",
       "      <td>1.013642</td>\n",
       "      <td>-0.453816</td>\n",
       "      <td>0.077004</td>\n",
       "    </tr>\n",
       "    <tr>\n",
       "      <th>...</th>\n",
       "      <td>...</td>\n",
       "      <td>...</td>\n",
       "      <td>...</td>\n",
       "      <td>...</td>\n",
       "      <td>...</td>\n",
       "      <td>...</td>\n",
       "    </tr>\n",
       "    <tr>\n",
       "      <th>8945</th>\n",
       "      <td>-0.362572</td>\n",
       "      <td>-2.013437</td>\n",
       "      <td>-0.975609</td>\n",
       "      <td>-2.742418</td>\n",
       "      <td>0.124714</td>\n",
       "      <td>2.673427</td>\n",
       "    </tr>\n",
       "    <tr>\n",
       "      <th>8946</th>\n",
       "      <td>-0.580810</td>\n",
       "      <td>-1.675663</td>\n",
       "      <td>-1.222354</td>\n",
       "      <td>-1.980537</td>\n",
       "      <td>-0.073504</td>\n",
       "      <td>3.312539</td>\n",
       "    </tr>\n",
       "    <tr>\n",
       "      <th>8947</th>\n",
       "      <td>-0.928985</td>\n",
       "      <td>-1.808048</td>\n",
       "      <td>-0.458242</td>\n",
       "      <td>-2.296301</td>\n",
       "      <td>0.234615</td>\n",
       "      <td>2.980784</td>\n",
       "    </tr>\n",
       "    <tr>\n",
       "      <th>8948</th>\n",
       "      <td>-2.337845</td>\n",
       "      <td>-0.653611</td>\n",
       "      <td>0.982831</td>\n",
       "      <td>-1.847692</td>\n",
       "      <td>-0.070276</td>\n",
       "      <td>3.179484</td>\n",
       "    </tr>\n",
       "    <tr>\n",
       "      <th>8949</th>\n",
       "      <td>-0.558027</td>\n",
       "      <td>-0.400646</td>\n",
       "      <td>1.033646</td>\n",
       "      <td>-1.940026</td>\n",
       "      <td>-1.440343</td>\n",
       "      <td>3.675562</td>\n",
       "    </tr>\n",
       "  </tbody>\n",
       "</table>\n",
       "<p>8950 rows × 6 columns</p>\n",
       "</div>"
      ],
      "text/plain": [
       "             0         1         2         3         4         5\n",
       "0    -1.683649 -1.072241  0.475660  0.679928  0.043195  0.068069\n",
       "1    -1.134085  2.509150  0.602216 -0.109542  0.662638 -1.102255\n",
       "2     0.969395 -0.383577  0.090970  1.238359 -2.166584 -0.320185\n",
       "3    -0.888220  0.004648  1.499800  1.075271  0.225828 -0.171540\n",
       "4    -1.600021 -0.683795  0.347927  1.013642 -0.453816  0.077004\n",
       "...        ...       ...       ...       ...       ...       ...\n",
       "8945 -0.362572 -2.013437 -0.975609 -2.742418  0.124714  2.673427\n",
       "8946 -0.580810 -1.675663 -1.222354 -1.980537 -0.073504  3.312539\n",
       "8947 -0.928985 -1.808048 -0.458242 -2.296301  0.234615  2.980784\n",
       "8948 -2.337845 -0.653611  0.982831 -1.847692 -0.070276  3.179484\n",
       "8949 -0.558027 -0.400646  1.033646 -1.940026 -1.440343  3.675562\n",
       "\n",
       "[8950 rows x 6 columns]"
      ]
     },
     "execution_count": 135,
     "metadata": {},
     "output_type": "execute_result"
    }
   ],
   "source": [
    "sklearn_pca"
   ]
  },
  {
   "cell_type": "markdown",
   "metadata": {},
   "source": [
    "With my implemention"
   ]
  },
  {
   "cell_type": "code",
   "execution_count": 136,
   "metadata": {},
   "outputs": [
    {
     "data": {
      "text/html": [
       "<div>\n",
       "<style scoped>\n",
       "    .dataframe tbody tr th:only-of-type {\n",
       "        vertical-align: middle;\n",
       "    }\n",
       "\n",
       "    .dataframe tbody tr th {\n",
       "        vertical-align: top;\n",
       "    }\n",
       "\n",
       "    .dataframe thead th {\n",
       "        text-align: right;\n",
       "    }\n",
       "</style>\n",
       "<table border=\"1\" class=\"dataframe\">\n",
       "  <thead>\n",
       "    <tr style=\"text-align: right;\">\n",
       "      <th></th>\n",
       "      <th>0</th>\n",
       "      <th>1</th>\n",
       "      <th>2</th>\n",
       "      <th>3</th>\n",
       "      <th>4</th>\n",
       "      <th>5</th>\n",
       "      <th>6</th>\n",
       "      <th>7</th>\n",
       "      <th>8</th>\n",
       "      <th>9</th>\n",
       "      <th>10</th>\n",
       "      <th>11</th>\n",
       "    </tr>\n",
       "  </thead>\n",
       "  <tbody>\n",
       "    <tr>\n",
       "      <th>0</th>\n",
       "      <td>-1.683649</td>\n",
       "      <td>1.072241</td>\n",
       "      <td>-0.475660</td>\n",
       "      <td>0.679928</td>\n",
       "      <td>-0.043195</td>\n",
       "      <td>-0.068069</td>\n",
       "      <td>0.822155</td>\n",
       "      <td>-0.018952</td>\n",
       "      <td>0.118336</td>\n",
       "      <td>-0.078196</td>\n",
       "      <td>0.235948</td>\n",
       "      <td>0.052497</td>\n",
       "    </tr>\n",
       "    <tr>\n",
       "      <th>1</th>\n",
       "      <td>-1.134085</td>\n",
       "      <td>-2.509150</td>\n",
       "      <td>-0.602216</td>\n",
       "      <td>-0.109542</td>\n",
       "      <td>-0.662638</td>\n",
       "      <td>1.102255</td>\n",
       "      <td>-0.384282</td>\n",
       "      <td>0.176154</td>\n",
       "      <td>0.674472</td>\n",
       "      <td>-0.777929</td>\n",
       "      <td>0.870746</td>\n",
       "      <td>0.607171</td>\n",
       "    </tr>\n",
       "    <tr>\n",
       "      <th>2</th>\n",
       "      <td>0.969395</td>\n",
       "      <td>0.383577</td>\n",
       "      <td>-0.090970</td>\n",
       "      <td>1.238359</td>\n",
       "      <td>2.166584</td>\n",
       "      <td>0.320185</td>\n",
       "      <td>-1.542496</td>\n",
       "      <td>-0.229364</td>\n",
       "      <td>-0.867803</td>\n",
       "      <td>-0.001744</td>\n",
       "      <td>0.762170</td>\n",
       "      <td>-0.683870</td>\n",
       "    </tr>\n",
       "    <tr>\n",
       "      <th>3</th>\n",
       "      <td>-0.888220</td>\n",
       "      <td>-0.004648</td>\n",
       "      <td>-1.499800</td>\n",
       "      <td>1.075271</td>\n",
       "      <td>-0.225828</td>\n",
       "      <td>0.171540</td>\n",
       "      <td>-0.236644</td>\n",
       "      <td>-0.690410</td>\n",
       "      <td>-0.064245</td>\n",
       "      <td>0.393690</td>\n",
       "      <td>-0.747670</td>\n",
       "      <td>-0.119186</td>\n",
       "    </tr>\n",
       "    <tr>\n",
       "      <th>4</th>\n",
       "      <td>-1.600021</td>\n",
       "      <td>0.683795</td>\n",
       "      <td>-0.347927</td>\n",
       "      <td>1.013642</td>\n",
       "      <td>0.453816</td>\n",
       "      <td>-0.077004</td>\n",
       "      <td>0.698278</td>\n",
       "      <td>0.245311</td>\n",
       "      <td>0.578032</td>\n",
       "      <td>-0.122073</td>\n",
       "      <td>0.455167</td>\n",
       "      <td>0.108719</td>\n",
       "    </tr>\n",
       "    <tr>\n",
       "      <th>...</th>\n",
       "      <td>...</td>\n",
       "      <td>...</td>\n",
       "      <td>...</td>\n",
       "      <td>...</td>\n",
       "      <td>...</td>\n",
       "      <td>...</td>\n",
       "      <td>...</td>\n",
       "      <td>...</td>\n",
       "      <td>...</td>\n",
       "      <td>...</td>\n",
       "      <td>...</td>\n",
       "      <td>...</td>\n",
       "    </tr>\n",
       "    <tr>\n",
       "      <th>8945</th>\n",
       "      <td>-0.362572</td>\n",
       "      <td>2.013437</td>\n",
       "      <td>0.975609</td>\n",
       "      <td>-2.742418</td>\n",
       "      <td>-0.124714</td>\n",
       "      <td>-2.673427</td>\n",
       "      <td>-1.561393</td>\n",
       "      <td>0.277404</td>\n",
       "      <td>1.371131</td>\n",
       "      <td>-0.845167</td>\n",
       "      <td>-0.194939</td>\n",
       "      <td>-0.020982</td>\n",
       "    </tr>\n",
       "    <tr>\n",
       "      <th>8946</th>\n",
       "      <td>-0.580810</td>\n",
       "      <td>1.675663</td>\n",
       "      <td>1.222354</td>\n",
       "      <td>-1.980537</td>\n",
       "      <td>0.073504</td>\n",
       "      <td>-3.312539</td>\n",
       "      <td>-1.068590</td>\n",
       "      <td>-0.639929</td>\n",
       "      <td>0.940227</td>\n",
       "      <td>-1.245566</td>\n",
       "      <td>-0.069507</td>\n",
       "      <td>-0.458772</td>\n",
       "    </tr>\n",
       "    <tr>\n",
       "      <th>8947</th>\n",
       "      <td>-0.928985</td>\n",
       "      <td>1.808048</td>\n",
       "      <td>0.458242</td>\n",
       "      <td>-2.296301</td>\n",
       "      <td>-0.234615</td>\n",
       "      <td>-2.980784</td>\n",
       "      <td>-1.403265</td>\n",
       "      <td>-0.292832</td>\n",
       "      <td>0.810029</td>\n",
       "      <td>-0.830136</td>\n",
       "      <td>-0.120176</td>\n",
       "      <td>-0.073141</td>\n",
       "    </tr>\n",
       "    <tr>\n",
       "      <th>8948</th>\n",
       "      <td>-2.337845</td>\n",
       "      <td>0.653611</td>\n",
       "      <td>-0.982831</td>\n",
       "      <td>-1.847692</td>\n",
       "      <td>0.070276</td>\n",
       "      <td>-3.179484</td>\n",
       "      <td>-0.973534</td>\n",
       "      <td>0.230863</td>\n",
       "      <td>1.205675</td>\n",
       "      <td>0.268663</td>\n",
       "      <td>0.306599</td>\n",
       "      <td>0.113269</td>\n",
       "    </tr>\n",
       "    <tr>\n",
       "      <th>8949</th>\n",
       "      <td>-0.558027</td>\n",
       "      <td>0.400646</td>\n",
       "      <td>-1.033646</td>\n",
       "      <td>-1.940026</td>\n",
       "      <td>1.440343</td>\n",
       "      <td>-3.675562</td>\n",
       "      <td>-1.419251</td>\n",
       "      <td>-0.404445</td>\n",
       "      <td>-0.831976</td>\n",
       "      <td>0.346161</td>\n",
       "      <td>0.505324</td>\n",
       "      <td>-0.122673</td>\n",
       "    </tr>\n",
       "  </tbody>\n",
       "</table>\n",
       "<p>8950 rows × 12 columns</p>\n",
       "</div>"
      ],
      "text/plain": [
       "            0         1         2         3         4         5         6   \\\n",
       "0    -1.683649  1.072241 -0.475660  0.679928 -0.043195 -0.068069  0.822155   \n",
       "1    -1.134085 -2.509150 -0.602216 -0.109542 -0.662638  1.102255 -0.384282   \n",
       "2     0.969395  0.383577 -0.090970  1.238359  2.166584  0.320185 -1.542496   \n",
       "3    -0.888220 -0.004648 -1.499800  1.075271 -0.225828  0.171540 -0.236644   \n",
       "4    -1.600021  0.683795 -0.347927  1.013642  0.453816 -0.077004  0.698278   \n",
       "...        ...       ...       ...       ...       ...       ...       ...   \n",
       "8945 -0.362572  2.013437  0.975609 -2.742418 -0.124714 -2.673427 -1.561393   \n",
       "8946 -0.580810  1.675663  1.222354 -1.980537  0.073504 -3.312539 -1.068590   \n",
       "8947 -0.928985  1.808048  0.458242 -2.296301 -0.234615 -2.980784 -1.403265   \n",
       "8948 -2.337845  0.653611 -0.982831 -1.847692  0.070276 -3.179484 -0.973534   \n",
       "8949 -0.558027  0.400646 -1.033646 -1.940026  1.440343 -3.675562 -1.419251   \n",
       "\n",
       "            7         8         9         10        11  \n",
       "0    -0.018952  0.118336 -0.078196  0.235948  0.052497  \n",
       "1     0.176154  0.674472 -0.777929  0.870746  0.607171  \n",
       "2    -0.229364 -0.867803 -0.001744  0.762170 -0.683870  \n",
       "3    -0.690410 -0.064245  0.393690 -0.747670 -0.119186  \n",
       "4     0.245311  0.578032 -0.122073  0.455167  0.108719  \n",
       "...        ...       ...       ...       ...       ...  \n",
       "8945  0.277404  1.371131 -0.845167 -0.194939 -0.020982  \n",
       "8946 -0.639929  0.940227 -1.245566 -0.069507 -0.458772  \n",
       "8947 -0.292832  0.810029 -0.830136 -0.120176 -0.073141  \n",
       "8948  0.230863  1.205675  0.268663  0.306599  0.113269  \n",
       "8949 -0.404445 -0.831976  0.346161  0.505324 -0.122673  \n",
       "\n",
       "[8950 rows x 12 columns]"
      ]
     },
     "execution_count": 136,
     "metadata": {},
     "output_type": "execute_result"
    }
   ],
   "source": [
    "pd.DataFrame(X_transofmed)"
   ]
  },
  {
   "cell_type": "code",
   "execution_count": 27,
   "metadata": {},
   "outputs": [],
   "source": [
    "x=np.array([1,2,3,4,5,6,7,11,22,54])"
   ]
  },
  {
   "cell_type": "code",
   "execution_count": 34,
   "metadata": {},
   "outputs": [
    {
     "data": {
      "text/plain": [
       "5"
      ]
     },
     "execution_count": 34,
     "metadata": {},
     "output_type": "execute_result"
    }
   ],
   "source": [
    "np.where((x>5))[0][0]"
   ]
  },
  {
   "cell_type": "code",
   "execution_count": 32,
   "metadata": {},
   "outputs": [
    {
     "name": "stdout",
     "output_type": "stream",
     "text": [
      "5\n"
     ]
    }
   ],
   "source": [
    "a = np.array([7,8,9,5,2,1,5,6,1])\n",
    "\n",
    "print(np.where(a==1)[0][0])"
   ]
  },
  {
   "cell_type": "code",
   "execution_count": 109,
   "metadata": {},
   "outputs": [],
   "source": [
    "x=[0.35980034 ,0.62754863 ,0.74371186, 0.84229666, 0.92434247 ,1.        ]"
   ]
  },
  {
   "cell_type": "code",
   "execution_count": 112,
   "metadata": {},
   "outputs": [
    {
     "data": {
      "text/plain": [
       "array([0.35980034, 0.62754863, 0.74371186, 0.84229666, 0.92434247,\n",
       "       1.        ])"
      ]
     },
     "execution_count": 112,
     "metadata": {},
     "output_type": "execute_result"
    }
   ],
   "source": [
    "x=np.array(x)\n",
    "x"
   ]
  },
  {
   "cell_type": "code",
   "execution_count": 114,
   "metadata": {},
   "outputs": [
    {
     "data": {
      "text/plain": [
       "1.0"
      ]
     },
     "execution_count": 114,
     "metadata": {},
     "output_type": "execute_result"
    }
   ],
   "source": [
    "x[np.where(x>0.95)[0][0]]"
   ]
  },
  {
   "cell_type": "code",
   "execution_count": null,
   "metadata": {},
   "outputs": [],
   "source": []
  }
 ],
 "metadata": {
  "kernelspec": {
   "display_name": "Python 3",
   "language": "python",
   "name": "python3"
  },
  "language_info": {
   "codemirror_mode": {
    "name": "ipython",
    "version": 3
   },
   "file_extension": ".py",
   "mimetype": "text/x-python",
   "name": "python",
   "nbconvert_exporter": "python",
   "pygments_lexer": "ipython3",
   "version": "3.8.3"
  }
 },
 "nbformat": 4,
 "nbformat_minor": 4
}
