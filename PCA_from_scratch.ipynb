{
 "cells": [
  {
   "cell_type": "code",
   "execution_count": 371,
   "metadata": {},
   "outputs": [
    {
     "name": "stdout",
     "output_type": "stream",
     "text": [
      "The shape of the dataset is: (8950, 17)\n"
     ]
    }
   ],
   "source": [
    "import pandas as pd\n",
    "data_path = 'CC GENERAL.csv'  #the path where you downloaded the data\n",
    "df = pd.read_csv(data_path)\n",
    "df.set_index(['CUST_ID'],drop=True,inplace=True)\n",
    "print('The shape of the dataset is:', df.shape)"
   ]
  },
  {
   "cell_type": "code",
   "execution_count": 372,
   "metadata": {},
   "outputs": [],
   "source": [
    "#make a copy for the original dataset\n",
    "df_copy_scenario1=df.copy()"
   ]
  },
  {
   "cell_type": "code",
   "execution_count": 373,
   "metadata": {},
   "outputs": [],
   "source": [
    "df_copy_scenario1['CREDIT_LIMIT'].fillna(df_copy_scenario1['CREDIT_LIMIT'].median(),inplace=True)\n",
    "df_copy_scenario1['MINIMUM_PAYMENTS'].fillna(df_copy_scenario1['MINIMUM_PAYMENTS'].median(),inplace=True)"
   ]
  },
  {
   "cell_type": "code",
   "execution_count": 440,
   "metadata": {},
   "outputs": [],
   "source": [
    "import numpy as np\n",
    "import matplotlib.pyplot as plt\n",
    "class PCA ():\n",
    "\n",
    "    def __init__(self,n_components,typee ):\n",
    "        self.n_components = n_components\n",
    "        self.type=typee\n",
    "        if self.n_components > 1:\n",
    "            self.type = 'var'\n",
    "        else:\n",
    "            self.type = 'ratio'\n",
    "\n",
    "    def fit(self,X):\n",
    "        \n",
    "        self.mean =np.mean(X,axis=0)\n",
    "        #self.variance =np.std(X,axis=0)\n",
    "        X_standarded=(X-self.mean) #/self.variance\n",
    "        cov_matrix=np.cov(X_standarded.T)\n",
    "        eign_values,eign_vectors=np.linalg.eig(cov_matrix)\n",
    "        index=np.argsort(eign_values)[: : -1]\n",
    "        eign_values_sorted=eign_values[index]\n",
    "        explained_var_pca=eign_values_sorted/(np.sum(eign_values_sorted))\n",
    "        self.cum_sum_eignvalues=np.cumsum(explained_var_pca)\n",
    "        if(self.type=='var'):\n",
    "                  full_components=eign_vectors[:,index]\n",
    "                  self.components=full_components[:, 0:self.n_components]\n",
    "                  self.eign_per_components=eign_values[ 0:self.n_components]\n",
    "                  X_new=np.dot(X_standarded,self.components)\n",
    "        else :\n",
    "            for comp in range(len(self.cum_sum_eignvalues)):\n",
    "                if(np.round(self.cum_sum_eignvalues[comp],2)>=self.n_components):\n",
    "                         break\n",
    "            full_components=eign_vectors[:,index]\n",
    "            self.components=full_components[:, 0:comp]\n",
    "            self.eign_per_components=eign_values[ 0:comp]\n",
    "            X_new=np.dot(X_standarded,self.components)\n",
    "            \n",
    "        return X_new\n",
    "\n",
    "    def transform(self,Z):\n",
    "        Z_new = (Z - self.mean )#/ self.variance\n",
    "        Z_new = np.dot(Z_new,self.components)\n",
    "        return Z_new\n",
    "\n",
    "    #optional \n",
    "    def plot_explained_variance(self):\n",
    "            eign_values_sorted=self.eign_per_components\n",
    "            explained_var_pca=[]\n",
    "            explained_var_pca=eign_values_sorted/(np.sum(eign_values_sorted))\n",
    "            self.cum_sum_eignvalues=np.cumsum(explained_var_pca)\n",
    "            plt.step(range(0,len(self.cum_sum_eignvalues)),self.cum_sum_eignvalues, label='Individual explained variance')\n",
    "            plt.ylabel('Explained variance ratio')\n",
    "            plt.xlabel('Principal component index')\n",
    "\n",
    "\n",
    "\n",
    "\n"
   ]
  },
  {
   "cell_type": "code",
   "execution_count": 441,
   "metadata": {},
   "outputs": [
    {
     "data": {
      "text/plain": [
       "(17, 6)"
      ]
     },
     "execution_count": 441,
     "metadata": {},
     "output_type": "execute_result"
    }
   ],
   "source": [
    "data=df_copy_scenario1.values\n",
    "pca_section = PCA(n_components=6,typee='var')\n",
    "X_transofmed = pca_section.fit(data)\n",
    "components=pca_section.components#return matrix (n,4)\n",
    "components.shape"
   ]
  },
  {
   "cell_type": "code",
   "execution_count": 442,
   "metadata": {},
   "outputs": [
    {
     "data": {
      "image/png": "[encoded data removed]",
      "text/plain": [
       "<Figure size 432x288 with 1 Axes>"
      ]
     },
     "metadata": {
      "needs_background": "light"
     },
     "output_type": "display_data"
    }
   ],
   "source": [
    "pca_section.plot_explained_variance()"
   ]
  },
  {
   "cell_type": "markdown",
   "metadata": {},
   "source": [
    "# Using Sklearn"
   ]
  },
  {
   "cell_type": "code",
   "execution_count": 443,
   "metadata": {},
   "outputs": [],
   "source": [
    "from sklearn.decomposition import PCA\n",
    "pca = PCA(n_components=6)\n",
    "sklearn_pca=pd.DataFrame(pca.fit_transform(df_copy_scenario1))"
   ]
  },
  {
   "cell_type": "code",
   "execution_count": 444,
   "metadata": {},
   "outputs": [
    {
     "data": {
      "text/plain": [
       "Text(0.5, 0, 'Principal component index')"
      ]
     },
     "execution_count": 444,
     "metadata": {},
     "output_type": "execute_result"
    },
    {
     "data": {
      "image/png": "[encoded data removed]",
      "text/plain": [
       "<Figure size 432x288 with 1 Axes>"
      ]
     },
     "metadata": {
      "needs_background": "light"
     },
     "output_type": "display_data"
    }
   ],
   "source": [
    "exp_var_pca = pca.explained_variance_ratio_\n",
    "cum_sum_eigenvalues = np.cumsum(exp_var_pca)\n",
    "plt.step(range(0,len(cum_sum_eigenvalues)),cum_sum_eigenvalues , label='Individual explained variance')\n",
    "plt.ylabel('Explained variance ratio')\n",
    "plt.xlabel('Principal component index')"
   ]
  },
  {
   "cell_type": "markdown",
   "metadata": {},
   "source": [
    "# New features"
   ]
  },
  {
   "cell_type": "markdown",
   "metadata": {},
   "source": [
    "with Sklearn"
   ]
  },
  {
   "cell_type": "code",
   "execution_count": 434,
   "metadata": {},
   "outputs": [
    {
     "data": {
      "text/html": [
       "<div>\n",
       "<style scoped>\n",
       "    .dataframe tbody tr th:only-of-type {\n",
       "        vertical-align: middle;\n",
       "    }\n",
       "\n",
       "    .dataframe tbody tr th {\n",
       "        vertical-align: top;\n",
       "    }\n",
       "\n",
       "    .dataframe thead th {\n",
       "        text-align: right;\n",
       "    }\n",
       "</style>\n",
       "<table border=\"1\" class=\"dataframe\">\n",
       "  <thead>\n",
       "    <tr style=\"text-align: right;\">\n",
       "      <th></th>\n",
       "      <th>0</th>\n",
       "      <th>1</th>\n",
       "      <th>2</th>\n",
       "      <th>3</th>\n",
       "      <th>4</th>\n",
       "      <th>5</th>\n",
       "    </tr>\n",
       "  </thead>\n",
       "  <tbody>\n",
       "    <tr>\n",
       "      <th>0</th>\n",
       "      <td>-4324.002588</td>\n",
       "      <td>915.765369</td>\n",
       "      <td>201.300919</td>\n",
       "      <td>-152.755840</td>\n",
       "      <td>55.994474</td>\n",
       "      <td>11.476368</td>\n",
       "    </tr>\n",
       "    <tr>\n",
       "      <th>1</th>\n",
       "      <td>4121.337598</td>\n",
       "      <td>-2437.924095</td>\n",
       "      <td>2361.213634</td>\n",
       "      <td>-3923.475700</td>\n",
       "      <td>52.156410</td>\n",
       "      <td>-1450.678890</td>\n",
       "    </tr>\n",
       "    <tr>\n",
       "      <th>2</th>\n",
       "      <td>1499.292482</td>\n",
       "      <td>-2001.757145</td>\n",
       "      <td>-2108.969965</td>\n",
       "      <td>1052.205822</td>\n",
       "      <td>-303.964778</td>\n",
       "      <td>391.814398</td>\n",
       "    </tr>\n",
       "    <tr>\n",
       "      <th>3</th>\n",
       "      <td>1321.831643</td>\n",
       "      <td>-1387.720046</td>\n",
       "      <td>-2765.240020</td>\n",
       "      <td>1263.137243</td>\n",
       "      <td>-481.335783</td>\n",
       "      <td>-769.277555</td>\n",
       "    </tr>\n",
       "    <tr>\n",
       "      <th>4</th>\n",
       "      <td>-3740.724727</td>\n",
       "      <td>751.733688</td>\n",
       "      <td>529.417138</td>\n",
       "      <td>-227.554436</td>\n",
       "      <td>-227.574594</td>\n",
       "      <td>567.760442</td>\n",
       "    </tr>\n",
       "    <tr>\n",
       "      <th>...</th>\n",
       "      <td>...</td>\n",
       "      <td>...</td>\n",
       "      <td>...</td>\n",
       "      <td>...</td>\n",
       "      <td>...</td>\n",
       "      <td>...</td>\n",
       "    </tr>\n",
       "    <tr>\n",
       "      <th>8945</th>\n",
       "      <td>-4206.224939</td>\n",
       "      <td>1116.548615</td>\n",
       "      <td>154.001330</td>\n",
       "      <td>-177.086740</td>\n",
       "      <td>22.009376</td>\n",
       "      <td>25.094666</td>\n",
       "    </tr>\n",
       "    <tr>\n",
       "      <th>8946</th>\n",
       "      <td>-4194.319859</td>\n",
       "      <td>1051.770206</td>\n",
       "      <td>303.267400</td>\n",
       "      <td>12.304289</td>\n",
       "      <td>95.806078</td>\n",
       "      <td>-39.660477</td>\n",
       "    </tr>\n",
       "    <tr>\n",
       "      <th>8947</th>\n",
       "      <td>-4377.191354</td>\n",
       "      <td>905.598428</td>\n",
       "      <td>119.007057</td>\n",
       "      <td>-126.825320</td>\n",
       "      <td>-9.461741</td>\n",
       "      <td>-51.744901</td>\n",
       "    </tr>\n",
       "    <tr>\n",
       "      <th>8948</th>\n",
       "      <td>-4788.733686</td>\n",
       "      <td>1026.485649</td>\n",
       "      <td>375.798193</td>\n",
       "      <td>-257.111218</td>\n",
       "      <td>-99.313050</td>\n",
       "      <td>-17.538088</td>\n",
       "    </tr>\n",
       "    <tr>\n",
       "      <th>8949</th>\n",
       "      <td>-3621.688225</td>\n",
       "      <td>1549.994084</td>\n",
       "      <td>-11.468057</td>\n",
       "      <td>317.069216</td>\n",
       "      <td>-814.312737</td>\n",
       "      <td>-581.925787</td>\n",
       "    </tr>\n",
       "  </tbody>\n",
       "</table>\n",
       "<p>8950 rows × 6 columns</p>\n",
       "</div>"
      ],
      "text/plain": [
       "                0            1            2            3           4  \\\n",
       "0    -4324.002588   915.765369   201.300919  -152.755840   55.994474   \n",
       "1     4121.337598 -2437.924095  2361.213634 -3923.475700   52.156410   \n",
       "2     1499.292482 -2001.757145 -2108.969965  1052.205822 -303.964778   \n",
       "3     1321.831643 -1387.720046 -2765.240020  1263.137243 -481.335783   \n",
       "4    -3740.724727   751.733688   529.417138  -227.554436 -227.574594   \n",
       "...           ...          ...          ...          ...         ...   \n",
       "8945 -4206.224939  1116.548615   154.001330  -177.086740   22.009376   \n",
       "8946 -4194.319859  1051.770206   303.267400    12.304289   95.806078   \n",
       "8947 -4377.191354   905.598428   119.007057  -126.825320   -9.461741   \n",
       "8948 -4788.733686  1026.485649   375.798193  -257.111218  -99.313050   \n",
       "8949 -3621.688225  1549.994084   -11.468057   317.069216 -814.312737   \n",
       "\n",
       "                5  \n",
       "0       11.476368  \n",
       "1    -1450.678890  \n",
       "2      391.814398  \n",
       "3     -769.277555  \n",
       "4      567.760442  \n",
       "...           ...  \n",
       "8945    25.094666  \n",
       "8946   -39.660477  \n",
       "8947   -51.744901  \n",
       "8948   -17.538088  \n",
       "8949  -581.925787  \n",
       "\n",
       "[8950 rows x 6 columns]"
      ]
     },
     "execution_count": 434,
     "metadata": {},
     "output_type": "execute_result"
    }
   ],
   "source": [
    "sklearn_pca"
   ]
  },
  {
   "cell_type": "markdown",
   "metadata": {},
   "source": [
    "With my implemention"
   ]
  },
  {
   "cell_type": "code",
   "execution_count": 435,
   "metadata": {},
   "outputs": [
    {
     "data": {
      "text/html": [
       "<div>\n",
       "<style scoped>\n",
       "    .dataframe tbody tr th:only-of-type {\n",
       "        vertical-align: middle;\n",
       "    }\n",
       "\n",
       "    .dataframe tbody tr th {\n",
       "        vertical-align: top;\n",
       "    }\n",
       "\n",
       "    .dataframe thead th {\n",
       "        text-align: right;\n",
       "    }\n",
       "</style>\n",
       "<table border=\"1\" class=\"dataframe\">\n",
       "  <thead>\n",
       "    <tr style=\"text-align: right;\">\n",
       "      <th></th>\n",
       "      <th>0</th>\n",
       "      <th>1</th>\n",
       "      <th>2</th>\n",
       "      <th>3</th>\n",
       "      <th>4</th>\n",
       "      <th>5</th>\n",
       "    </tr>\n",
       "  </thead>\n",
       "  <tbody>\n",
       "    <tr>\n",
       "      <th>0</th>\n",
       "      <td>4324.002588</td>\n",
       "      <td>915.765369</td>\n",
       "      <td>-201.300919</td>\n",
       "      <td>152.755840</td>\n",
       "      <td>55.994474</td>\n",
       "      <td>-11.476368</td>\n",
       "    </tr>\n",
       "    <tr>\n",
       "      <th>1</th>\n",
       "      <td>-4121.337598</td>\n",
       "      <td>-2437.924095</td>\n",
       "      <td>-2361.213634</td>\n",
       "      <td>3923.475700</td>\n",
       "      <td>52.156410</td>\n",
       "      <td>1450.678890</td>\n",
       "    </tr>\n",
       "    <tr>\n",
       "      <th>2</th>\n",
       "      <td>-1499.292482</td>\n",
       "      <td>-2001.757145</td>\n",
       "      <td>2108.969965</td>\n",
       "      <td>-1052.205822</td>\n",
       "      <td>-303.964778</td>\n",
       "      <td>-391.814398</td>\n",
       "    </tr>\n",
       "    <tr>\n",
       "      <th>3</th>\n",
       "      <td>-1321.831643</td>\n",
       "      <td>-1387.720046</td>\n",
       "      <td>2765.240020</td>\n",
       "      <td>-1263.137243</td>\n",
       "      <td>-481.335783</td>\n",
       "      <td>769.277555</td>\n",
       "    </tr>\n",
       "    <tr>\n",
       "      <th>4</th>\n",
       "      <td>3740.724727</td>\n",
       "      <td>751.733688</td>\n",
       "      <td>-529.417138</td>\n",
       "      <td>227.554436</td>\n",
       "      <td>-227.574594</td>\n",
       "      <td>-567.760442</td>\n",
       "    </tr>\n",
       "    <tr>\n",
       "      <th>...</th>\n",
       "      <td>...</td>\n",
       "      <td>...</td>\n",
       "      <td>...</td>\n",
       "      <td>...</td>\n",
       "      <td>...</td>\n",
       "      <td>...</td>\n",
       "    </tr>\n",
       "    <tr>\n",
       "      <th>8945</th>\n",
       "      <td>4206.224939</td>\n",
       "      <td>1116.548615</td>\n",
       "      <td>-154.001330</td>\n",
       "      <td>177.086740</td>\n",
       "      <td>22.009376</td>\n",
       "      <td>-25.094666</td>\n",
       "    </tr>\n",
       "    <tr>\n",
       "      <th>8946</th>\n",
       "      <td>4194.319859</td>\n",
       "      <td>1051.770206</td>\n",
       "      <td>-303.267400</td>\n",
       "      <td>-12.304289</td>\n",
       "      <td>95.806078</td>\n",
       "      <td>39.660477</td>\n",
       "    </tr>\n",
       "    <tr>\n",
       "      <th>8947</th>\n",
       "      <td>4377.191354</td>\n",
       "      <td>905.598428</td>\n",
       "      <td>-119.007057</td>\n",
       "      <td>126.825320</td>\n",
       "      <td>-9.461741</td>\n",
       "      <td>51.744901</td>\n",
       "    </tr>\n",
       "    <tr>\n",
       "      <th>8948</th>\n",
       "      <td>4788.733686</td>\n",
       "      <td>1026.485649</td>\n",
       "      <td>-375.798193</td>\n",
       "      <td>257.111218</td>\n",
       "      <td>-99.313050</td>\n",
       "      <td>17.538088</td>\n",
       "    </tr>\n",
       "    <tr>\n",
       "      <th>8949</th>\n",
       "      <td>3621.688225</td>\n",
       "      <td>1549.994084</td>\n",
       "      <td>11.468057</td>\n",
       "      <td>-317.069216</td>\n",
       "      <td>-814.312737</td>\n",
       "      <td>581.925787</td>\n",
       "    </tr>\n",
       "  </tbody>\n",
       "</table>\n",
       "<p>8950 rows × 6 columns</p>\n",
       "</div>"
      ],
      "text/plain": [
       "                0            1            2            3           4  \\\n",
       "0     4324.002588   915.765369  -201.300919   152.755840   55.994474   \n",
       "1    -4121.337598 -2437.924095 -2361.213634  3923.475700   52.156410   \n",
       "2    -1499.292482 -2001.757145  2108.969965 -1052.205822 -303.964778   \n",
       "3    -1321.831643 -1387.720046  2765.240020 -1263.137243 -481.335783   \n",
       "4     3740.724727   751.733688  -529.417138   227.554436 -227.574594   \n",
       "...           ...          ...          ...          ...         ...   \n",
       "8945  4206.224939  1116.548615  -154.001330   177.086740   22.009376   \n",
       "8946  4194.319859  1051.770206  -303.267400   -12.304289   95.806078   \n",
       "8947  4377.191354   905.598428  -119.007057   126.825320   -9.461741   \n",
       "8948  4788.733686  1026.485649  -375.798193   257.111218  -99.313050   \n",
       "8949  3621.688225  1549.994084    11.468057  -317.069216 -814.312737   \n",
       "\n",
       "                5  \n",
       "0      -11.476368  \n",
       "1     1450.678890  \n",
       "2     -391.814398  \n",
       "3      769.277555  \n",
       "4     -567.760442  \n",
       "...           ...  \n",
       "8945   -25.094666  \n",
       "8946    39.660477  \n",
       "8947    51.744901  \n",
       "8948    17.538088  \n",
       "8949   581.925787  \n",
       "\n",
       "[8950 rows x 6 columns]"
      ]
     },
     "execution_count": 435,
     "metadata": {},
     "output_type": "execute_result"
    }
   ],
   "source": [
    "pd.DataFrame(X_transofmed)"
   ]
  },
  {
   "cell_type": "code",
   "execution_count": null,
   "metadata": {},
   "outputs": [],
   "source": []
  }
 ],
 "metadata": {
  "kernelspec": {
   "display_name": "Python 3",
   "language": "python",
   "name": "python3"
  },
  "language_info": {
   "codemirror_mode": {
    "name": "ipython",
    "version": 3
   },
   "file_extension": ".py",
   "mimetype": "text/x-python",
   "name": "python",
   "nbconvert_exporter": "python",
   "pygments_lexer": "ipython3",
   "version": "3.8.3"
  }
 },
 "nbformat": 4,
 "nbformat_minor": 4
}
